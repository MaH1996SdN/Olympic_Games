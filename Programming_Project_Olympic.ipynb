{
  "nbformat": 4,
  "nbformat_minor": 0,
  "metadata": {
    "colab": {
      "name": "Programming_Project_Olympic.ipynb",
      "provenance": [],
      "authorship_tag": "ABX9TyMiRUmgITPhgAKJT8/bTfOC",
      "include_colab_link": true
    },
    "kernelspec": {
      "name": "python3",
      "display_name": "Python 3"
    },
    "language_info": {
      "name": "python"
    }
  },
  "cells": [
    {
      "cell_type": "markdown",
      "metadata": {
        "id": "view-in-github",
        "colab_type": "text"
      },
      "source": [
        "<a href=\"https://colab.research.google.com/github/MaH1996SdN/Programming_Project/blob/master/Programming_Project_Olympic.ipynb\" target=\"_parent\"><img src=\"https://colab.research.google.com/assets/colab-badge.svg\" alt=\"Open In Colab\"/></a>"
      ]
    },
    {
      "cell_type": "markdown",
      "source": [
        "#Importing libraries and creting dataframes"
      ],
      "metadata": {
        "id": "lR4Y2ZcRC4hY"
      }
    },
    {
      "cell_type": "code",
      "source": [
        "# importing required libraries\n",
        "import pandas as pd\n",
        "import numpy as np\n",
        "import matplotlib.pyplot as plt\n",
        "import seaborn as sns"
      ],
      "metadata": {
        "id": "aD-sIGH-C503"
      },
      "execution_count": 1,
      "outputs": []
    },
    {
      "cell_type": "code",
      "source": [
        "# creating the olympics dataframe \n",
        "olympic_df = pd.read_csv('https://raw.githubusercontent.com/MaH1996SdN/programming_project/master/athlete_events.csv')\n",
        "# creating regions dataframe\n",
        "regions_df = pd.read_csv('https://raw.githubusercontent.com/MaH1996SdN/programming_project/master/noc_regions.csv')"
      ],
      "metadata": {
        "id": "hzzpjePYC9Uw"
      },
      "execution_count": 2,
      "outputs": []
    }
  ]
}